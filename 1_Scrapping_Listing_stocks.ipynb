{
 "cells": [
  {
   "cell_type": "markdown",
   "id": "24059729",
   "metadata": {},
   "source": [
    "# Web Scrapping with Selenium\n",
    "### Import Libraries\n",
    "\n",
    "We'll first import all relevant libraries that we will require to access a javascript driven website's HTML and extract information from the same."
   ]
  },
  {
   "cell_type": "code",
   "execution_count": 1,
   "id": "a2b538c2",
   "metadata": {},
   "outputs": [],
   "source": [
    "from selenium import webdriver\n",
    "from selenium.webdriver.chrome.service import Service\n",
    "from selenium.webdriver.chrome.options import Options\n",
    "from selenium.webdriver.common.by import By\n",
    "import pandas as pd"
   ]
  },
  {
   "cell_type": "markdown",
   "id": "4a86a527",
   "metadata": {},
   "source": [
    "### Set up chrome driver\n",
    "Set up chrome driver in headless mode and disable logging of Devtools messages with help of selenium library."
   ]
  },
  {
   "cell_type": "code",
   "execution_count": 2,
   "id": "fe5ad0db",
   "metadata": {},
   "outputs": [],
   "source": [
    "service = Service('path_to_chromedriver')  \n",
    "chrome_options = Options()\n",
    "chrome_options.add_argument('--headless')#  # Run Chrome in headless mode, remove this line if you want to see the browser window\n",
    "chrome_options.add_argument('--disable-gpu')  # Disable GPU acceleration, as it may cause issues in headless mode\n",
    "chrome_options.add_experimental_option('excludeSwitches', ['enable-logging'])  # Disable logging of DevTools messages\n",
    "driver = webdriver.Chrome(service = service,options=chrome_options)"
   ]
  },
  {
   "cell_type": "markdown",
   "id": "0f205631",
   "metadata": {},
   "source": [
    "### Fetching Table headers of Listed Stocks Data from the First Pages of Website.\n",
    "We want to scrap the Listed stocks data from : https://www.screener.in/screens/29729/top-1000-stocks/?page={1}"
   ]
  },
  {
   "cell_type": "code",
   "execution_count": 3,
   "id": "f569f834",
   "metadata": {},
   "outputs": [
    {
     "data": {
      "text/plain": [
       "['S.No.',\n",
       " 'Name',\n",
       " 'CMP Rs.',\n",
       " 'P/E',\n",
       " 'Mar Cap Rs.Cr.',\n",
       " 'Div Yld %',\n",
       " 'NP Qtr Rs.Cr.',\n",
       " 'Qtr Profit Var %',\n",
       " 'Sales Qtr Rs.Cr.',\n",
       " 'Qtr Sales Var %',\n",
       " 'ROCE %',\n",
       " 'PAT Ann Rs.Cr.']"
      ]
     },
     "execution_count": 3,
     "metadata": {},
     "output_type": "execute_result"
    }
   ],
   "source": [
    "url_pattern = f\"https://www.screener.in/screens/29729/top-1000-stocks/?page={1}\"\n",
    "driver.get(url_pattern)\n",
    "table = driver.find_element(By.CLASS_NAME, \"data-table\")\n",
    "\n",
    "# Extract the table headers\n",
    "headers = ([th.text.strip() for th in table.find_elements(By.TAG_NAME, \"th\")])[0:12]\n",
    "headers"
   ]
  },
  {
   "cell_type": "markdown",
   "id": "ab3330a5",
   "metadata": {},
   "source": [
    "### Fetching complete table data of listed stocks from all pages of website."
   ]
  },
  {
   "cell_type": "code",
   "execution_count": 4,
   "id": "bcf18fcb",
   "metadata": {},
   "outputs": [],
   "source": [
    "# Empty list to store all the stock data\n",
    "stock_data = []\n",
    "\n",
    "# Iterate through all the pages\n",
    "for page in range(1, 51):\n",
    "    # Construct the URL for the current page\n",
    "    url = f\"https://www.screener.in/screens/29729/top-1000-stocks/?page={page}\"\n",
    "\n",
    "    # Load the page\n",
    "    driver.get(url)\n",
    "\n",
    "    # Find the table containing the stock data\n",
    "    table = driver.find_element(By.CLASS_NAME, \"data-table\")\n",
    "    \n",
    "    # Extract the table rows\n",
    "    rows = table.find_elements(By.TAG_NAME, \"tr\")\n",
    "\n",
    "    # Extract the data from each row\n",
    "    for row in rows[1:-1]:\n",
    "        data = [td.text.strip() for td in row.find_elements(By.TAG_NAME, \"td\")]\n",
    "        if len(data)==0:\n",
    "            pass\n",
    "        else:\n",
    "            stock_data.append(data)\n",
    "\n",
    "# Quit the driver\n",
    "driver.quit()"
   ]
  },
  {
   "cell_type": "markdown",
   "id": "940a500f",
   "metadata": {},
   "source": [
    "### Importing the Data into Pandas DataFrame and Extracting it To CSV file"
   ]
  },
  {
   "cell_type": "code",
   "execution_count": 5,
   "id": "ea146663",
   "metadata": {},
   "outputs": [],
   "source": [
    "# Create a pandas DataFrame from the stock data\n",
    "df = pd.DataFrame(stock_data, columns=headers)\n",
    "\n",
    "# Display the DataFrame\n",
    "# print(df)\n",
    "df.to_csv(\"All_Stocks_Row_Data.csv\",index=False)"
   ]
  },
  {
   "cell_type": "code",
   "execution_count": 6,
   "id": "7b84a7cf",
   "metadata": {},
   "outputs": [
    {
     "name": "stdout",
     "output_type": "stream",
     "text": [
      "<class 'pandas.core.frame.DataFrame'>\n",
      "RangeIndex: 1230 entries, 0 to 1229\n",
      "Data columns (total 12 columns):\n",
      " #   Column            Non-Null Count  Dtype \n",
      "---  ------            --------------  ----- \n",
      " 0   S.No.             1230 non-null   object\n",
      " 1   Name              1230 non-null   object\n",
      " 2   CMP Rs.           1230 non-null   object\n",
      " 3   P/E               1230 non-null   object\n",
      " 4   Mar Cap Rs.Cr.    1230 non-null   object\n",
      " 5   Div Yld %         1230 non-null   object\n",
      " 6   NP Qtr Rs.Cr.     1230 non-null   object\n",
      " 7   Qtr Profit Var %  1230 non-null   object\n",
      " 8   Sales Qtr Rs.Cr.  1230 non-null   object\n",
      " 9   Qtr Sales Var %   1230 non-null   object\n",
      " 10  ROCE %            1230 non-null   object\n",
      " 11  PAT Ann Rs.Cr.    1230 non-null   object\n",
      "dtypes: object(12)\n",
      "memory usage: 115.4+ KB\n",
      "None\n"
     ]
    }
   ],
   "source": [
    "print(df.info())"
   ]
  },
  {
   "cell_type": "markdown",
   "id": "76eea080",
   "metadata": {},
   "source": [
    "## Data Cleaning \n",
    "Most of case scraped dataset is not available in the most useful format and must be cleaned before any analysis could be performed."
   ]
  },
  {
   "cell_type": "markdown",
   "id": "28226bac",
   "metadata": {},
   "source": [
    "In this case, data type of all colums are object, we need to change in suitable type.<br>\n",
    "For that we read stored csv file in a new pandas dataframe, that changes columns data type.<br>"
   ]
  },
  {
   "cell_type": "code",
   "execution_count": 7,
   "id": "b44641dc",
   "metadata": {},
   "outputs": [],
   "source": [
    "import pandas as pd\n",
    "ndf = pd.read_csv(\"All_Stocks_Row_Data.csv\",na_values=[\"not available\",\"n.a.\"],index_col=[0])"
   ]
  },
  {
   "cell_type": "code",
   "execution_count": 8,
   "id": "27be84a9",
   "metadata": {},
   "outputs": [
    {
     "data": {
      "text/html": [
       "<div>\n",
       "<style scoped>\n",
       "    .dataframe tbody tr th:only-of-type {\n",
       "        vertical-align: middle;\n",
       "    }\n",
       "\n",
       "    .dataframe tbody tr th {\n",
       "        vertical-align: top;\n",
       "    }\n",
       "\n",
       "    .dataframe thead th {\n",
       "        text-align: right;\n",
       "    }\n",
       "</style>\n",
       "<table border=\"1\" class=\"dataframe\">\n",
       "  <thead>\n",
       "    <tr style=\"text-align: right;\">\n",
       "      <th></th>\n",
       "      <th>Name</th>\n",
       "      <th>CMP Rs.</th>\n",
       "      <th>P/E</th>\n",
       "      <th>Mar Cap Rs.Cr.</th>\n",
       "      <th>Div Yld %</th>\n",
       "      <th>NP Qtr Rs.Cr.</th>\n",
       "      <th>Qtr Profit Var %</th>\n",
       "      <th>Sales Qtr Rs.Cr.</th>\n",
       "      <th>Qtr Sales Var %</th>\n",
       "      <th>ROCE %</th>\n",
       "      <th>PAT Ann Rs.Cr.</th>\n",
       "    </tr>\n",
       "    <tr>\n",
       "      <th>S.No.</th>\n",
       "      <th></th>\n",
       "      <th></th>\n",
       "      <th></th>\n",
       "      <th></th>\n",
       "      <th></th>\n",
       "      <th></th>\n",
       "      <th></th>\n",
       "      <th></th>\n",
       "      <th></th>\n",
       "      <th></th>\n",
       "      <th></th>\n",
       "    </tr>\n",
       "  </thead>\n",
       "  <tbody>\n",
       "    <tr>\n",
       "      <th>1138.0</th>\n",
       "      <td>The Hi-Tech Gear</td>\n",
       "      <td>353.40</td>\n",
       "      <td>28.70</td>\n",
       "      <td>663.33</td>\n",
       "      <td>0.42</td>\n",
       "      <td>16.64</td>\n",
       "      <td>48.04</td>\n",
       "      <td>286.55</td>\n",
       "      <td>-0.72</td>\n",
       "      <td>8.32</td>\n",
       "      <td>23.11</td>\n",
       "    </tr>\n",
       "    <tr>\n",
       "      <th>1147.0</th>\n",
       "      <td>Marine Electric.</td>\n",
       "      <td>50.65</td>\n",
       "      <td>32.79</td>\n",
       "      <td>639.79</td>\n",
       "      <td>0.00</td>\n",
       "      <td>6.23</td>\n",
       "      <td>28.72</td>\n",
       "      <td>129.68</td>\n",
       "      <td>69.78</td>\n",
       "      <td>17.15</td>\n",
       "      <td>19.51</td>\n",
       "    </tr>\n",
       "    <tr>\n",
       "      <th>1187.0</th>\n",
       "      <td>Supershakti Met.</td>\n",
       "      <td>500.00</td>\n",
       "      <td>17.31</td>\n",
       "      <td>576.26</td>\n",
       "      <td>0.20</td>\n",
       "      <td>10.44</td>\n",
       "      <td>NaN</td>\n",
       "      <td>370.53</td>\n",
       "      <td>NaN</td>\n",
       "      <td>24.20</td>\n",
       "      <td>33.30</td>\n",
       "    </tr>\n",
       "  </tbody>\n",
       "</table>\n",
       "</div>"
      ],
      "text/plain": [
       "                    Name  CMP Rs.    P/E  Mar Cap Rs.Cr.  Div Yld %   \n",
       "S.No.                                                                 \n",
       "1138.0  The Hi-Tech Gear   353.40  28.70          663.33       0.42  \\\n",
       "1147.0  Marine Electric.    50.65  32.79          639.79       0.00   \n",
       "1187.0  Supershakti Met.   500.00  17.31          576.26       0.20   \n",
       "\n",
       "        NP Qtr Rs.Cr.  Qtr Profit Var %  Sales Qtr Rs.Cr.  Qtr Sales Var %   \n",
       "S.No.                                                                        \n",
       "1138.0          16.64             48.04            286.55            -0.72  \\\n",
       "1147.0           6.23             28.72            129.68            69.78   \n",
       "1187.0          10.44               NaN            370.53              NaN   \n",
       "\n",
       "        ROCE %  PAT Ann Rs.Cr.  \n",
       "S.No.                           \n",
       "1138.0    8.32           23.11  \n",
       "1147.0   17.15           19.51  \n",
       "1187.0   24.20           33.30  "
      ]
     },
     "execution_count": 8,
     "metadata": {},
     "output_type": "execute_result"
    }
   ],
   "source": [
    "ndf.loc[[1138,1147,1187]]"
   ]
  },
  {
   "cell_type": "code",
   "execution_count": 9,
   "id": "b7f0203c",
   "metadata": {},
   "outputs": [
    {
     "name": "stdout",
     "output_type": "stream",
     "text": [
      "<class 'pandas.core.frame.DataFrame'>\n",
      "Index: 1230 entries, 1.0 to 1230.0\n",
      "Data columns (total 11 columns):\n",
      " #   Column            Non-Null Count  Dtype  \n",
      "---  ------            --------------  -----  \n",
      " 0   Name              1230 non-null   object \n",
      " 1   CMP Rs.           1230 non-null   float64\n",
      " 2   P/E               1229 non-null   float64\n",
      " 3   Mar Cap Rs.Cr.    1230 non-null   float64\n",
      " 4   Div Yld %         1224 non-null   float64\n",
      " 5   NP Qtr Rs.Cr.     1230 non-null   float64\n",
      " 6   Qtr Profit Var %  1216 non-null   float64\n",
      " 7   Sales Qtr Rs.Cr.  1230 non-null   float64\n",
      " 8   Qtr Sales Var %   1214 non-null   float64\n",
      " 9   ROCE %            1227 non-null   float64\n",
      " 10  PAT Ann Rs.Cr.    1230 non-null   float64\n",
      "dtypes: float64(10), object(1)\n",
      "memory usage: 147.6+ KB\n"
     ]
    }
   ],
   "source": [
    "ndf.info()"
   ]
  },
  {
   "cell_type": "markdown",
   "id": "6b74649e",
   "metadata": {},
   "source": [
    "### Create a new dataframe 'new_df' and take selectd columns from 'ndf' dataframe"
   ]
  },
  {
   "cell_type": "code",
   "execution_count": 10,
   "id": "975a07ac",
   "metadata": {},
   "outputs": [],
   "source": [
    "new_df = ndf[[\"Name\",\"CMP Rs.\",\"P/E\",\"Div Yld %\",\"ROCE %\"]]"
   ]
  },
  {
   "cell_type": "code",
   "execution_count": 11,
   "id": "ac531658",
   "metadata": {},
   "outputs": [
    {
     "data": {
      "text/html": [
       "<div>\n",
       "<style scoped>\n",
       "    .dataframe tbody tr th:only-of-type {\n",
       "        vertical-align: middle;\n",
       "    }\n",
       "\n",
       "    .dataframe tbody tr th {\n",
       "        vertical-align: top;\n",
       "    }\n",
       "\n",
       "    .dataframe thead th {\n",
       "        text-align: right;\n",
       "    }\n",
       "</style>\n",
       "<table border=\"1\" class=\"dataframe\">\n",
       "  <thead>\n",
       "    <tr style=\"text-align: right;\">\n",
       "      <th></th>\n",
       "      <th>Name</th>\n",
       "      <th>CMP Rs.</th>\n",
       "      <th>P/E</th>\n",
       "      <th>Div Yld %</th>\n",
       "      <th>ROCE %</th>\n",
       "    </tr>\n",
       "    <tr>\n",
       "      <th>S.No.</th>\n",
       "      <th></th>\n",
       "      <th></th>\n",
       "      <th></th>\n",
       "      <th></th>\n",
       "      <th></th>\n",
       "    </tr>\n",
       "  </thead>\n",
       "  <tbody>\n",
       "    <tr>\n",
       "      <th>1.0</th>\n",
       "      <td>Reliance Industr</td>\n",
       "      <td>2481.95</td>\n",
       "      <td>25.17</td>\n",
       "      <td>0.32</td>\n",
       "      <td>10.14</td>\n",
       "    </tr>\n",
       "    <tr>\n",
       "      <th>2.0</th>\n",
       "      <td>TCS</td>\n",
       "      <td>3209.30</td>\n",
       "      <td>27.88</td>\n",
       "      <td>1.50</td>\n",
       "      <td>59.11</td>\n",
       "    </tr>\n",
       "    <tr>\n",
       "      <th>3.0</th>\n",
       "      <td>HDFC Bank</td>\n",
       "      <td>1610.60</td>\n",
       "      <td>19.57</td>\n",
       "      <td>1.18</td>\n",
       "      <td>6.85</td>\n",
       "    </tr>\n",
       "    <tr>\n",
       "      <th>4.0</th>\n",
       "      <td>ICICI Bank</td>\n",
       "      <td>938.05</td>\n",
       "      <td>19.27</td>\n",
       "      <td>0.53</td>\n",
       "      <td>6.82</td>\n",
       "    </tr>\n",
       "    <tr>\n",
       "      <th>5.0</th>\n",
       "      <td>Hind. Unilever</td>\n",
       "      <td>2636.20</td>\n",
       "      <td>60.91</td>\n",
       "      <td>1.48</td>\n",
       "      <td>26.61</td>\n",
       "    </tr>\n",
       "    <tr>\n",
       "      <th>...</th>\n",
       "      <td>...</td>\n",
       "      <td>...</td>\n",
       "      <td>...</td>\n",
       "      <td>...</td>\n",
       "      <td>...</td>\n",
       "    </tr>\n",
       "    <tr>\n",
       "      <th>1226.0</th>\n",
       "      <td>Kamat Hotels</td>\n",
       "      <td>206.95</td>\n",
       "      <td>6.62</td>\n",
       "      <td>0.00</td>\n",
       "      <td>25.66</td>\n",
       "    </tr>\n",
       "    <tr>\n",
       "      <th>1227.0</th>\n",
       "      <td>N R Agarwal Inds</td>\n",
       "      <td>297.75</td>\n",
       "      <td>5.10</td>\n",
       "      <td>0.00</td>\n",
       "      <td>21.39</td>\n",
       "    </tr>\n",
       "    <tr>\n",
       "      <th>1228.0</th>\n",
       "      <td>Andhra Petrochem</td>\n",
       "      <td>59.56</td>\n",
       "      <td>24.80</td>\n",
       "      <td>2.52</td>\n",
       "      <td>6.40</td>\n",
       "    </tr>\n",
       "    <tr>\n",
       "      <th>1229.0</th>\n",
       "      <td>Aarti Surfactant</td>\n",
       "      <td>626.90</td>\n",
       "      <td>39.60</td>\n",
       "      <td>0.00</td>\n",
       "      <td>10.61</td>\n",
       "    </tr>\n",
       "    <tr>\n",
       "      <th>1230.0</th>\n",
       "      <td>Amines &amp; Plast.</td>\n",
       "      <td>91.04</td>\n",
       "      <td>21.90</td>\n",
       "      <td>0.44</td>\n",
       "      <td>16.10</td>\n",
       "    </tr>\n",
       "  </tbody>\n",
       "</table>\n",
       "<p>1230 rows × 5 columns</p>\n",
       "</div>"
      ],
      "text/plain": [
       "                    Name  CMP Rs.    P/E  Div Yld %  ROCE %\n",
       "S.No.                                                      \n",
       "1.0     Reliance Industr  2481.95  25.17       0.32   10.14\n",
       "2.0                  TCS  3209.30  27.88       1.50   59.11\n",
       "3.0            HDFC Bank  1610.60  19.57       1.18    6.85\n",
       "4.0           ICICI Bank   938.05  19.27       0.53    6.82\n",
       "5.0       Hind. Unilever  2636.20  60.91       1.48   26.61\n",
       "...                  ...      ...    ...        ...     ...\n",
       "1226.0      Kamat Hotels   206.95   6.62       0.00   25.66\n",
       "1227.0  N R Agarwal Inds   297.75   5.10       0.00   21.39\n",
       "1228.0  Andhra Petrochem    59.56  24.80       2.52    6.40\n",
       "1229.0  Aarti Surfactant   626.90  39.60       0.00   10.61\n",
       "1230.0   Amines & Plast.    91.04  21.90       0.44   16.10\n",
       "\n",
       "[1230 rows x 5 columns]"
      ]
     },
     "execution_count": 11,
     "metadata": {},
     "output_type": "execute_result"
    }
   ],
   "source": [
    "new_df"
   ]
  },
  {
   "cell_type": "markdown",
   "id": "c0137bd4",
   "metadata": {},
   "source": [
    "### Export data from \"new_df\" dataframe to a \"clean_Data.csv\" file."
   ]
  },
  {
   "cell_type": "code",
   "execution_count": 12,
   "id": "f453b067",
   "metadata": {},
   "outputs": [],
   "source": [
    "new_df.to_csv(\"Clean_Data.csv\")"
   ]
  },
  {
   "cell_type": "code",
   "execution_count": null,
   "id": "b28ca198",
   "metadata": {},
   "outputs": [],
   "source": []
  }
 ],
 "metadata": {
  "kernelspec": {
   "display_name": "Python 3 (ipykernel)",
   "language": "python",
   "name": "python3"
  },
  "language_info": {
   "codemirror_mode": {
    "name": "ipython",
    "version": 3
   },
   "file_extension": ".py",
   "mimetype": "text/x-python",
   "name": "python",
   "nbconvert_exporter": "python",
   "pygments_lexer": "ipython3",
   "version": "3.11.1"
  }
 },
 "nbformat": 4,
 "nbformat_minor": 5
}
